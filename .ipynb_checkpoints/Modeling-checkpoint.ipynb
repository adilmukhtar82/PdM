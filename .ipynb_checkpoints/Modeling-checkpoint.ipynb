{
 "cells": [
  {
   "cell_type": "code",
   "execution_count": 2,
   "id": "b9bb0d81",
   "metadata": {},
   "outputs": [],
   "source": [
    "import pandas as pd\n",
    "import numpy as np\n",
    "import seaborn as sns\n",
    "sns.set(palette=\"deep\", font_scale=1.1, rc={\"figure.figsize\": [8, 5]})\n",
    "import random\n",
    "from matplotlib import pyplot as plt\n",
    "import warnings\n",
    "warnings.filterwarnings('ignore')\n",
    "\n",
    "from sklearn.model_selection import train_test_split\n"
   ]
  },
  {
   "cell_type": "code",
   "execution_count": 3,
   "id": "4c548b1d",
   "metadata": {},
   "outputs": [
    {
     "data": {
      "text/plain": [
       "(5777, 16)"
      ]
     },
     "execution_count": 3,
     "metadata": {},
     "output_type": "execute_result"
    }
   ],
   "source": [
    "# read the data\n",
    "df = pd.read_csv('./data/logged_transformed_data.csv')\n",
    "df = df.loc[:, ~df.columns.str.contains('^Unnamed')]\n",
    "df.shape"
   ]
  },
  {
   "cell_type": "code",
   "execution_count": 4,
   "id": "51b09e37",
   "metadata": {},
   "outputs": [
    {
     "data": {
      "text/html": [
       "<div>\n",
       "<style scoped>\n",
       "    .dataframe tbody tr th:only-of-type {\n",
       "        vertical-align: middle;\n",
       "    }\n",
       "\n",
       "    .dataframe tbody tr th {\n",
       "        vertical-align: top;\n",
       "    }\n",
       "\n",
       "    .dataframe thead th {\n",
       "        text-align: right;\n",
       "    }\n",
       "</style>\n",
       "<table border=\"1\" class=\"dataframe\">\n",
       "  <thead>\n",
       "    <tr style=\"text-align: right;\">\n",
       "      <th></th>\n",
       "      <th>TONDUR</th>\n",
       "      <th>EngSpDist_K1</th>\n",
       "      <th>EngSpDist_K2</th>\n",
       "      <th>EngSpDist_K3</th>\n",
       "      <th>EngSpDist_K4</th>\n",
       "      <th>EngSpDist_K5</th>\n",
       "      <th>EngSpDist_K6</th>\n",
       "      <th>EngSpDist_K7</th>\n",
       "      <th>AmbTempDist_K5</th>\n",
       "      <th>AmbTempDist_K6</th>\n",
       "      <th>AmbTempDist_K7</th>\n",
       "      <th>AmbTempDist_K8</th>\n",
       "      <th>AmbTempDist_K9</th>\n",
       "      <th>AmbTempDist_K10</th>\n",
       "      <th>MILEAGE</th>\n",
       "      <th>LABEL</th>\n",
       "    </tr>\n",
       "  </thead>\n",
       "  <tbody>\n",
       "    <tr>\n",
       "      <th>0</th>\n",
       "      <td>14.038220</td>\n",
       "      <td>12.386195</td>\n",
       "      <td>13.002472</td>\n",
       "      <td>12.346563</td>\n",
       "      <td>9.849897</td>\n",
       "      <td>8.147491</td>\n",
       "      <td>7.397562</td>\n",
       "      <td>6.619273</td>\n",
       "      <td>2.397895</td>\n",
       "      <td>5.762051</td>\n",
       "      <td>6.033086</td>\n",
       "      <td>5.049856</td>\n",
       "      <td>0.000000</td>\n",
       "      <td>0.000000</td>\n",
       "      <td>10.463360</td>\n",
       "      <td>0</td>\n",
       "    </tr>\n",
       "    <tr>\n",
       "      <th>1</th>\n",
       "      <td>14.613686</td>\n",
       "      <td>13.674723</td>\n",
       "      <td>13.667726</td>\n",
       "      <td>11.945884</td>\n",
       "      <td>9.450003</td>\n",
       "      <td>7.967869</td>\n",
       "      <td>6.859195</td>\n",
       "      <td>6.148255</td>\n",
       "      <td>2.708050</td>\n",
       "      <td>6.171701</td>\n",
       "      <td>6.173786</td>\n",
       "      <td>5.123964</td>\n",
       "      <td>0.693147</td>\n",
       "      <td>0.000000</td>\n",
       "      <td>9.613135</td>\n",
       "      <td>0</td>\n",
       "    </tr>\n",
       "    <tr>\n",
       "      <th>2</th>\n",
       "      <td>15.049144</td>\n",
       "      <td>13.620402</td>\n",
       "      <td>14.485669</td>\n",
       "      <td>12.812301</td>\n",
       "      <td>10.168882</td>\n",
       "      <td>7.281799</td>\n",
       "      <td>5.477300</td>\n",
       "      <td>4.527209</td>\n",
       "      <td>1.945910</td>\n",
       "      <td>6.517671</td>\n",
       "      <td>6.901737</td>\n",
       "      <td>5.568345</td>\n",
       "      <td>1.098612</td>\n",
       "      <td>0.000000</td>\n",
       "      <td>10.537044</td>\n",
       "      <td>0</td>\n",
       "    </tr>\n",
       "    <tr>\n",
       "      <th>3</th>\n",
       "      <td>13.329598</td>\n",
       "      <td>11.841770</td>\n",
       "      <td>12.250756</td>\n",
       "      <td>11.573650</td>\n",
       "      <td>9.223740</td>\n",
       "      <td>7.014724</td>\n",
       "      <td>5.445443</td>\n",
       "      <td>4.412798</td>\n",
       "      <td>0.000000</td>\n",
       "      <td>5.135798</td>\n",
       "      <td>5.690359</td>\n",
       "      <td>4.727388</td>\n",
       "      <td>1.098612</td>\n",
       "      <td>0.000000</td>\n",
       "      <td>8.861492</td>\n",
       "      <td>0</td>\n",
       "    </tr>\n",
       "    <tr>\n",
       "      <th>4</th>\n",
       "      <td>14.576953</td>\n",
       "      <td>13.589420</td>\n",
       "      <td>13.500192</td>\n",
       "      <td>12.399762</td>\n",
       "      <td>9.494737</td>\n",
       "      <td>7.772963</td>\n",
       "      <td>6.705272</td>\n",
       "      <td>5.835103</td>\n",
       "      <td>2.564949</td>\n",
       "      <td>5.883322</td>\n",
       "      <td>6.621406</td>\n",
       "      <td>5.438079</td>\n",
       "      <td>1.098612</td>\n",
       "      <td>0.693147</td>\n",
       "      <td>9.887409</td>\n",
       "      <td>0</td>\n",
       "    </tr>\n",
       "  </tbody>\n",
       "</table>\n",
       "</div>"
      ],
      "text/plain": [
       "      TONDUR  EngSpDist_K1  EngSpDist_K2  EngSpDist_K3  EngSpDist_K4  \\\n",
       "0  14.038220     12.386195     13.002472     12.346563      9.849897   \n",
       "1  14.613686     13.674723     13.667726     11.945884      9.450003   \n",
       "2  15.049144     13.620402     14.485669     12.812301     10.168882   \n",
       "3  13.329598     11.841770     12.250756     11.573650      9.223740   \n",
       "4  14.576953     13.589420     13.500192     12.399762      9.494737   \n",
       "\n",
       "   EngSpDist_K5  EngSpDist_K6  EngSpDist_K7  AmbTempDist_K5  AmbTempDist_K6  \\\n",
       "0      8.147491      7.397562      6.619273        2.397895        5.762051   \n",
       "1      7.967869      6.859195      6.148255        2.708050        6.171701   \n",
       "2      7.281799      5.477300      4.527209        1.945910        6.517671   \n",
       "3      7.014724      5.445443      4.412798        0.000000        5.135798   \n",
       "4      7.772963      6.705272      5.835103        2.564949        5.883322   \n",
       "\n",
       "   AmbTempDist_K7  AmbTempDist_K8  AmbTempDist_K9  AmbTempDist_K10    MILEAGE  \\\n",
       "0        6.033086        5.049856        0.000000         0.000000  10.463360   \n",
       "1        6.173786        5.123964        0.693147         0.000000   9.613135   \n",
       "2        6.901737        5.568345        1.098612         0.000000  10.537044   \n",
       "3        5.690359        4.727388        1.098612         0.000000   8.861492   \n",
       "4        6.621406        5.438079        1.098612         0.693147   9.887409   \n",
       "\n",
       "   LABEL  \n",
       "0      0  \n",
       "1      0  \n",
       "2      0  \n",
       "3      0  \n",
       "4      0  "
      ]
     },
     "execution_count": 4,
     "metadata": {},
     "output_type": "execute_result"
    }
   ],
   "source": [
    "df.head()"
   ]
  },
  {
   "cell_type": "code",
   "execution_count": 5,
   "id": "9fa32202",
   "metadata": {},
   "outputs": [
    {
     "name": "stdout",
     "output_type": "stream",
     "text": [
      "(5777, 15) (5777,)\n"
     ]
    }
   ],
   "source": [
    "X = df.drop(['LABEL'], axis=1).values\n",
    "y = df['LABEL'].values\n",
    "print(X.shape, y.shape)"
   ]
  },
  {
   "cell_type": "markdown",
   "id": "d32657e1",
   "metadata": {},
   "source": [
    "For the modeling, baseline needs to established in order to evaluate the performance of the model. For simplicity, I will only consider models from three types: **Linear**, **Non-Linear**, **discriminative algorithm** and **Ensemble**. I will also consider f1 score as a metric for baseline to get the initial feel of the model performance due to high imbalance dataset classes, i.e., ***DAMAGE*** and ***NO_DAMAGE*** are equally important.\n",
    "\n",
    "### Baseline without upsampling, feature selection (RF, Perm method), and hyperparameters tuning \n"
   ]
  },
  {
   "cell_type": "code",
   "execution_count": 92,
   "id": "c703deda",
   "metadata": {},
   "outputs": [],
   "source": [
    "from sklearn.linear_model import LogisticRegression\n",
    "from sklearn.tree import DecisionTreeClassifier\n",
    "from sklearn.ensemble import RandomForestClassifier\n",
    "from sklearn.svm import SVC\n",
    "from sklearn import model_selection\n",
    "from sklearn.model_selection import GridSearchCV, StratifiedKFold\n",
    "from imblearn.pipeline import Pipeline as imbpipeline"
   ]
  },
  {
   "cell_type": "code",
   "execution_count": 93,
   "id": "278df86a",
   "metadata": {},
   "outputs": [],
   "source": [
    "stratified_kfold = StratifiedKFold(n_splits=10,\n",
    "                                       shuffle=True,\n",
    "                                       random_state=seed)\n",
    "def model_evaluation(models, X, y):\n",
    "    results = []\n",
    "    names = []\n",
    "    scoring = 'f1'\n",
    "    # evaluate each model in turn\n",
    "    for name, model in models:\n",
    "        cv_results = model_selection.cross_validate(model, X, y, cv=stratified_kfold, scoring=scoring, return_train_score=True)\n",
    "        print(\"Model:\", name)\n",
    "        print(\"Trainig Mean (Std.) Score:\", np.mean(cv_results['train_score']), np.std(cv_results['train_score']))\n",
    "        print(\"Testing Mean (Std.) Score:\", np.mean(cv_results['test_score']), np.std(cv_results['test_score']))\n",
    "        results.append(cv_results['test_score'])\n",
    "        names.append(name)\n",
    "        msg = \"%s: %f (%f)\" % (name, cv_results['test_score'].mean(), cv_results['test_score'].std())\n",
    "        print(msg)\n",
    "    # boxplot algorithm comparison\n",
    "    fig = plt.figure()\n",
    "    fig.suptitle('Models Comparison')\n",
    "    ax = fig.add_subplot(111)\n",
    "    plt.boxplot(results)\n",
    "    ax.set_xticklabels(names)\n",
    "    plt.show()\n",
    "    \n",
    "def model_evaluation_upsample(pipline, param_grid, X_train, y_train, X_test, y_test):\n",
    "    \n",
    "    \n",
    "   \n",
    "    grid_search = GridSearchCV(estimator=pipeline,\n",
    "                               param_grid=param_grid,\n",
    "                               scoring='f1',\n",
    "                               cv=stratified_kfold,\n",
    "                               n_jobs=-1)\n",
    "\n",
    "    grid_search.fit(X_train, y_train)\n",
    "    cv_score = grid_search.best_score_\n",
    "    test_score = grid_search.score(X_test, y_test)\n",
    "    print(f'Cross-validation score: {cv_score}\\nTest score: {test_score}')\n",
    "    \n"
   ]
  },
  {
   "cell_type": "markdown",
   "id": "75c64c18",
   "metadata": {},
   "source": [
    "The following results show that the best performing model is **Random Forest** this task, however, it seems that it overfits but not as much as **Decision Treest** as DTs are known for overfitting. For **Logistic Regression** it's approximately close to Random Forest, i.e., average accuracy across 10-folds is 0.94 with small standard deviation(0.006), in terms of performance, but less prone to overfitting. "
   ]
  },
  {
   "cell_type": "code",
   "execution_count": 94,
   "id": "32d4295b",
   "metadata": {},
   "outputs": [
    {
     "name": "stdout",
     "output_type": "stream",
     "text": [
      "Model: LR\n",
      "Trainig Mean (Std.) Score: 0.26443948817994 0.01851512922611997\n",
      "Testing Mean (Std.) Score: 0.2394873238449434 0.10713400413924791\n",
      "LR: 0.239487 (0.107134)\n",
      "Model: DT\n",
      "Trainig Mean (Std.) Score: 1.0 0.0\n",
      "Testing Mean (Std.) Score: 0.3676243466689978 0.057972038184865314\n",
      "DT: 0.367624 (0.057972)\n",
      "Model: RF\n",
      "Trainig Mean (Std.) Score: 1.0 0.0\n",
      "Testing Mean (Std.) Score: 0.44868133661835985 0.07658603245059238\n",
      "RF: 0.448681 (0.076586)\n",
      "Model: SVC\n",
      "Trainig Mean (Std.) Score: 0.0 0.0\n",
      "Testing Mean (Std.) Score: 0.0 0.0\n",
      "SVC: 0.000000 (0.000000)\n"
     ]
    },
    {
     "data": {
      "image/png": "[encoded data removed]",
      "text/plain": [
       "<Figure size 800x500 with 1 Axes>"
      ]
     },
     "metadata": {},
     "output_type": "display_data"
    }
   ],
   "source": [
    "# prepare configuration for cross validation test harness\n",
    "seed = 7\n",
    "# prepare models\n",
    "models = []\n",
    "lr = LogisticRegression()\n",
    "dt = DecisionTreeClassifier()\n",
    "rf = RandomForestClassifier()\n",
    "svc = SVC(kernel='rbf')\n",
    "models.append(('LR', lr))\n",
    "models.append(('DT', dt))\n",
    "models.append(('RF', rf))\n",
    "models.append(('SVC', svc))\n",
    "X_train, X_test, y_train, y_test = train_test_split(X, y, test_size=0.25, random_state=12)\n",
    "\n",
    "model_evaluation(models, X_train, y_train)"
   ]
  },
  {
   "cell_type": "markdown",
   "id": "1dc97586",
   "metadata": {},
   "source": [
    "As for the baselines, we will consider Logistic Regression (LR) and Random Forest (RF) models that are trained without upsampling, feature selection and hyperparameter tuning. \n",
    "\n",
    "### Upsampling but no feature selection and hyperparameter tuning.\n",
    "In the following blocks, upsampling will be applied to compare the outcomes of the model, and we will accuracy as a baseline metric to compare the outcome with baseline models.\\\n",
    "We will consider **SMOTE (Synthetic Minority Oversampling TEchnique)** for this task, as smote is less prone to overfitting as compared to other techniques, e.g., oversampling with replacement. But it is **important** to upsample the data after splitting to avoid **information leakage**."
   ]
  },
  {
   "cell_type": "markdown",
   "id": "09923b95",
   "metadata": {},
   "source": [
    "The following block of cells pass the **imblearn pipeline** as an argument to the model evaluation. The results show that **Random Forest** outperforms the "
   ]
  },
  {
   "cell_type": "code",
   "execution_count": 83,
   "id": "4617df86",
   "metadata": {},
   "outputs": [
    {
     "name": "stdout",
     "output_type": "stream",
     "text": [
      "Cross-validation score: 0.3433400079772858\n",
      "Test score: 0.3670588235294117\n"
     ]
    }
   ],
   "source": [
    "from imblearn.over_sampling import SMOTE\n",
    "pipeline = imbpipeline(steps = [['smote', SMOTE(random_state=11)],\n",
    "                                ['classifier', lr]])\n",
    "\n",
    "param_grid = {}\n",
    "model_evaluation_upsample(pipeline, param_grid, X_train, y_train, X_test, y_test)"
   ]
  },
  {
   "cell_type": "code",
   "execution_count": 96,
   "id": "f7188ab5",
   "metadata": {},
   "outputs": [
    {
     "name": "stdout",
     "output_type": "stream",
     "text": [
      "Cross-validation score: 0.4618578578236667\n",
      "Test score: 0.4495412844036697\n"
     ]
    }
   ],
   "source": [
    "pipeline = imbpipeline(steps = [['smote', SMOTE(random_state=11)],\n",
    "                                ['classifier', rf]])\n",
    "\n",
    "param_grid = {}\n",
    "model_evaluation_upsample(pipeline, param_grid, X_train, y_train, X_test, y_test)"
   ]
  },
  {
   "cell_type": "code",
   "execution_count": 91,
   "id": "7d465b2b",
   "metadata": {},
   "outputs": [
    {
     "name": "stdout",
     "output_type": "stream",
     "text": [
      "Cross-validation score: 0.3760508385713796\n",
      "Test score: 0.38659793814432997\n"
     ]
    }
   ],
   "source": [
    "pipeline = imbpipeline(steps = [['smote', SMOTE(random_state=11)],\n",
    "                                ['classifier', svc]])\n",
    "\n",
    "param_grid = {}\n",
    "model_evaluation_upsample(pipeline, param_grid, X_train, y_train, X_test, y_test)"
   ]
  },
  {
   "cell_type": "code",
   "execution_count": 100,
   "id": "1caf022a",
   "metadata": {},
   "outputs": [],
   "source": [
    "from sklearn.model_selection import RandomizedSearchCV"
   ]
  },
  {
   "cell_type": "code",
   "execution_count": 110,
   "id": "0626df36",
   "metadata": {},
   "outputs": [],
   "source": [
    "n_estimators = [int(x) for x in np.linspace(start = 1, stop = 20, num = 20)] # number of trees in the random forest\n",
    "max_features = ['auto', 'sqrt'] # number of features in consideration at every split\n",
    "max_depth = [int(x) for x in np.linspace(10, 120, num = 12)] # maximum number of levels allowed in each decision tree\n",
    "min_samples_split = [2, 6, 10] # minimum sample number to split a node\n",
    "min_samples_leaf = [1, 3, 4] # minimum sample number that can be stored in a leaf node\n",
    "bootstrap = [True, False] # method used to sample data points\n",
    "\n",
    "random_grid = {'n_estimators': n_estimators,\n",
    "\n",
    "'max_features': max_features,\n",
    "\n",
    "'max_depth': max_depth,\n",
    "\n",
    "'min_samples_split': min_samples_split,\n",
    "\n",
    "'min_samples_leaf': min_samples_leaf,\n",
    "\n",
    "'bootstrap': bootstrap}"
   ]
  },
  {
   "cell_type": "code",
   "execution_count": 115,
   "id": "50b493e6",
   "metadata": {},
   "outputs": [
    {
     "data": {
      "text/plain": [
       "(5777, 16)"
      ]
     },
     "execution_count": 115,
     "metadata": {},
     "output_type": "execute_result"
    }
   ],
   "source": [
    "df[['']]"
   ]
  },
  {
   "cell_type": "code",
   "execution_count": 111,
   "id": "5b84579a",
   "metadata": {},
   "outputs": [
    {
     "name": "stdout",
     "output_type": "stream",
     "text": [
      "Fitting 5 folds for each of 100 candidates, totalling 500 fits\n",
      "Random grid:  {'n_estimators': [1, 2, 3, 4, 5, 6, 7, 8, 9, 10, 11, 12, 13, 14, 15, 16, 17, 18, 19, 20], 'max_features': ['auto', 'sqrt'], 'max_depth': [10, 20, 30, 40, 50, 60, 70, 80, 90, 100, 110, 120], 'min_samples_split': [2, 6, 10], 'min_samples_leaf': [1, 3, 4], 'bootstrap': [True, False]} \n",
      "\n",
      "Best Parameters:  {'n_estimators': 19, 'min_samples_split': 2, 'min_samples_leaf': 1, 'max_features': 'auto', 'max_depth': 110, 'bootstrap': False}  \n",
      "\n"
     ]
    }
   ],
   "source": [
    "rf_random = RandomizedSearchCV(estimator = rf,\n",
    "\n",
    "param_distributions = random_grid,\n",
    "               n_iter = 100, cv = 5, verbose=2, random_state=35, scoring='f1', n_jobs = -1)\n",
    "rf_random.fit(X_train_sampled,y_train_sampled)\n",
    "\n",
    "# this prints the contents of the parameters in the random grid\n",
    "print ('Random grid: ', random_grid, '\\n')\n",
    "\n",
    "# print the best parameters\n",
    "print ('Best Parameters: ', rf_random.best_params_, ' \\n')"
   ]
  },
  {
   "cell_type": "code",
   "execution_count": 112,
   "id": "28df2d52",
   "metadata": {},
   "outputs": [
    {
     "name": "stdout",
     "output_type": "stream",
     "text": [
      "              precision    recall  f1-score   support\n",
      "\n",
      "           0       0.96      0.95      0.96      1351\n",
      "           1       0.40      0.48      0.44        94\n",
      "\n",
      "    accuracy                           0.92      1445\n",
      "   macro avg       0.68      0.71      0.70      1445\n",
      "weighted avg       0.93      0.92      0.92      1445\n",
      "\n"
     ]
    }
   ],
   "source": [
    "from sklearn.metrics import classification_report\n",
    "best_random = rf_random.best_estimator_\n",
    "y_pred = best_random.predict(X_test)\n",
    "print(classification_report(y_test, y_pred))"
   ]
  },
  {
   "cell_type": "code",
   "execution_count": 113,
   "id": "77629d45",
   "metadata": {},
   "outputs": [
    {
     "name": "stdout",
     "output_type": "stream",
     "text": [
      "Fitting 10 folds for each of 108 candidates, totalling 1080 fits\n",
      "RandomForestClassifier(max_depth=9, max_features=None, max_leaf_nodes=9,\n",
      "                       n_estimators=25)\n"
     ]
    }
   ],
   "source": [
    "param_grid = {\n",
    "    'n_estimators': [25, 50, 100, 150],\n",
    "    'max_features': ['sqrt', 'log2', None],\n",
    "    'max_depth': [3, 6, 9],\n",
    "    'max_leaf_nodes': [3, 6, 9],\n",
    "}\n",
    "X_train, X_test, y_train, y_test = train_test_split(X, y, test_size=0.25, random_state=12)\n",
    "oversample = SMOTE()\n",
    "X_train_sampled, y_train_sampled = oversample.fit_resample(X_train, y_train)\n",
    "grid_search = GridSearchCV(rf,\n",
    "                           param_grid=param_grid,\n",
    "                          scoring='f1',\n",
    "                           cv=stratified_kfold,\n",
    "                           n_jobs=-1, \n",
    "                          verbose=10)\n",
    "grid_search.fit(X_train_sampled, y_train_sampled)\n",
    "print(grid_search.best_estimator_)"
   ]
  },
  {
   "cell_type": "code",
   "execution_count": 114,
   "id": "6e916927",
   "metadata": {},
   "outputs": [
    {
     "name": "stdout",
     "output_type": "stream",
     "text": [
      "              precision    recall  f1-score   support\n",
      "\n",
      "           0       0.98      0.85      0.91      1351\n",
      "           1       0.28      0.81      0.41        94\n",
      "\n",
      "    accuracy                           0.85      1445\n",
      "   macro avg       0.63      0.83      0.66      1445\n",
      "weighted avg       0.94      0.85      0.88      1445\n",
      "\n"
     ]
    }
   ],
   "source": [
    "best_random = grid_search.best_estimator_\n",
    "y_pred = best_random.predict(X_test)\n",
    "print(classification_report(y_test, y_pred))"
   ]
  },
  {
   "cell_type": "code",
   "execution_count": null,
   "id": "c50cef13",
   "metadata": {},
   "outputs": [],
   "source": []
  }
 ],
 "metadata": {
  "kernelspec": {
   "display_name": "Python 3 (ipykernel)",
   "language": "python",
   "name": "python3"
  },
  "language_info": {
   "codemirror_mode": {
    "name": "ipython",
    "version": 3
   },
   "file_extension": ".py",
   "mimetype": "text/x-python",
   "name": "python",
   "nbconvert_exporter": "python",
   "pygments_lexer": "ipython3",
   "version": "3.10.9"
  }
 },
 "nbformat": 4,
 "nbformat_minor": 5
}
